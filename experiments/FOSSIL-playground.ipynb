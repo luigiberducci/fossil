{
 "cells": [
  {
   "cell_type": "markdown",
   "metadata": {},
   "source": [
    "[//]: # (Copyright c 2021, Alessandro Abate, Daniele Ahmed, Alec Edwards, Mirco Giacobbe, Andrea Peruffo)\n",
    "[//]: # (All rights reserved.)\n",
    "[//]: # (This source code is licensed under the BSD-style license found in the)\n",
    "[//]: # (LICENSE file in the root directory of this source tree. )\n",
    "\n",
    "# 🐚 Welcome to FOSSIL!\n",
    "\n",
    "            ..\\\\\\\\\n",
    "         ..\\\\\\\\  ,\\\n",
    "    --===)))))))   )\n",
    "         ''////  `/\n",
    "            ''////  \n",
    "\n",
    "                                                                                                                   \n",
    "## Overview\n",
    "This tool uses neural network templates alongside the CEGIS architecture to automatically synthesise sound Lyapunov functions of Barrier Certificates for any N-dimensional system. \n",
    "\n",
    "To use this tool please change the python code in the corresponding cells to input your required dynamical system and domain, then use the correspoding cell to synthise a [Lyapunov function](#lyap-synth) of [Barrier function](#barrier-synth) respectively.\n",
    "\n",
    "If you would like access to more settings, such as , please use the [advanced-playground](FOSSIL-advanced-playground.ipynb). To see benchmarks and further examples refer to [benchmarks](FOSSIL-benchmarks.ipynb)."
   ]
  },
  {
   "cell_type": "code",
   "execution_count": null,
   "metadata": {},
   "outputs": [],
   "source": [
    "# % Imports\n",
    "import sys\n",
    "sys.path.append('..')\n",
    "from experiments.playground_utils import *\n",
    "#sys.path.append(\".\")"
   ]
  },
  {
   "cell_type": "markdown",
   "metadata": {},
   "source": [
    "### Synthesising Lyapunov Functions\n",
    "\n",
    "First, we demonstrate synthesising Lyapunov functions. Consider the following dynamical system:\n",
    "\n",
    "$$ \\begin{cases} \\dot{x} = -x + xy \\\\ \\dot{y} = - y \\end{cases}$$\n",
    "\n",
    "\n",
    "This system can be instantied as follows, with $x_0 = x $ and $x_1 = y$:\n"
   ]
  },
  {
   "cell_type": "code",
   "execution_count": null,
   "metadata": {},
   "outputs": [],
   "source": [
    "\n",
    "N_Dimensions = 2\n",
    "\n",
    "x0, x1 = initialise_states(N_Dimensions)\n",
    "\n",
    "dynamics = [\n",
    "    -x0 + x0 * x1,\n",
    "    -x1\n",
    "]\n",
    "\n",
    "# Note, any arbitrary variables can be used here, but internally they will be treated as x_0,...,x_n and the\n",
    "# returned function will be a function of these parameters."
   ]
  },
  {
   "cell_type": "markdown",
   "metadata": {},
   "source": [
    "This system has an equilibrium point at the origin $(x_0, x_1) = (0, 0)$. We seek to synthesis a Lyapunov function to serve as a certificate of stability of this equilibrium point. This Lyapunov function will be validated in a region around the equilibrium point. This domain is defined as:\n",
    "\n",
    "$$ \\mathcal{D}  = \\{(x_0, x_1): x_0^2 + x_1^2 < r^2 \\} $$\n",
    "\n",
    "for some user-set parameter r. To constrain the domain to a torus shape (i.e., excluding a smaller hypershere around the origin), use the keyword arguement INNER_RADIUS. \n",
    "<a id='lyap-synth'></a>"
   ]
  },
  {
   "cell_type": "code",
   "execution_count": null,
   "metadata": {
    "scrolled": true
   },
   "outputs": [],
   "source": [
    "r = 10\n",
    "mode = PrimerMode.LYAPUNOV\n",
    "numerical_V, symbolic_V = synthesise(dynamics, mode, OUTER_RADIUS=r, CEGIS_PARAMETERS={CegisConfig.SEED_AND_SPEED.k: True})"
   ]
  },
  {
   "cell_type": "code",
   "execution_count": null,
   "metadata": {},
   "outputs": [],
   "source": [
    "# The symbolic function can be printed using print_f\n",
    "print_f(symbolic_V)"
   ]
  },
  {
   "cell_type": "markdown",
   "metadata": {},
   "source": [
    "### Barrier Cerificates\n",
    "\n",
    "\n",
    "We now demonstrate synthesising a barrier certificate. Consider the following dynamical system:\n",
    "\n",
    "$$\\begin{cases}\n",
    "\\dot{x} = y \\\\\n",
    "\\dot{y} = - 2400y - 576x\n",
    "\\end{cases}$$\n",
    "\n",
    "We can initialise this dynamical system as follows, with with $x_0 = x $ and $x_1 = y$."
   ]
  },
  {
   "cell_type": "code",
   "execution_count": null,
   "metadata": {},
   "outputs": [],
   "source": [
    "N_Dimensions = 2\n",
    "\n",
    "x0, x1= initialise_states(N_Dimensions)\n",
    "\n",
    "dynamics = [\n",
    "    x1,\n",
    "    -2400*x1 - 576*x0\n",
    "]"
   ]
  },
  {
   "cell_type": "markdown",
   "metadata": {},
   "source": [
    "#### Domain Initialisation\n",
    "We define the overall domain as \n",
    "$$\\begin{align*}\n",
    "& X = \\{x_0^2 + x_1^2 \\leq 4\\}\\\\ \n",
    "& X_0 = \\{(x_0 - 1)^2+(x_1 - 1)^2 \\leq 0.25 \\} \\\\ \n",
    "& X_u  = \\{ (x_0 + 2)^2+(x_1 + 2)^2 \\leq 0.16 \\}\n",
    "\\end{align*}$$\n",
    "\n",
    "\n",
    "This can be initialised as follows:"
   ]
  },
  {
   "cell_type": "code",
   "execution_count": null,
   "metadata": {},
   "outputs": [],
   "source": [
    "xd = Sphere([0, 0], 2)\n",
    "xi = Sphere([1, 1], 0.5)\n",
    "xu = Sphere([-2, -2], 0.4)\n",
    "\n",
    "#Hyper cuboids can be generated using Rectangle([lower_bounds], [upper_bounds])"
   ]
  },
  {
   "cell_type": "markdown",
   "metadata": {},
   "source": [
    "A barrier function is then synthesised as:\n",
    "<a id='barrier-synth'></a>"
   ]
  },
  {
   "cell_type": "code",
   "execution_count": null,
   "metadata": {},
   "outputs": [],
   "source": [
    "verifier_type = VerifierType.DREAL\n",
    "mode = PrimerMode.BARRIER\n",
    "\n",
    "numerical_B, symbolic_B, = synthesise(dynamics, mode, XD=xd, XI=xi, XU=xu, \n",
    "                       CEGIS_PARAMETERS={CegisConfig.VERIFIER.k:VerifierType.DREAL, \n",
    "                                         CegisConfig.ACTIVATION.k: [ActivationType.LINEAR] })\n"
   ]
  }
 ],
 "metadata": {
  "kernelspec": {
   "display_name": "Python 3",
   "language": "python",
   "name": "python3"
  },
  "language_info": {
   "codemirror_mode": {
    "name": "ipython",
    "version": 3
   },
   "file_extension": ".py",
   "mimetype": "text/x-python",
   "name": "python",
   "nbconvert_exporter": "python",
   "pygments_lexer": "ipython3",
   "version": "3.7.3"
  }
 },
 "nbformat": 4,
 "nbformat_minor": 4
}
