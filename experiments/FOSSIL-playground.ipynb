{
 "cells": [
  {
   "cell_type": "markdown",
   "metadata": {},
   "source": [
    "# Welcome to FOSSIL!\n",
    "\n",
    "            ..\\\\\\\\\n",
    "         ..\\\\\\\\  ,\\\n",
    "    --===)))))))   )\n",
    "         ''////  `/\n",
    "            ''////  \n",
    "\n",
    "                                                                                                                   \n",
    "## Overview\n",
    "This tool uses neural network templates alongside the CEGIS architecture to automatically synthesise sound Lyapunov functions of Barrier Certificates for any N-dimensional system. \n",
    "\n",
    "To use this tool please change the python code in the corresponding cells to input your required dynamical system and domain, then use the correspoding cell to synthise a [Lyapunov function](#lyap-synth) of [Barrier function](#barrier-synth) respectively.\n",
    "\n",
    "If you would like access to more settings, such as , please use the [advanced-playground](FOSSIL-advanced-playground.ipynb). To see benchmarks and further examples refer to [benchmarks](FOSSIL-benchmarks.ipynb)."
   ]
  },
  {
   "cell_type": "code",
   "execution_count": null,
   "metadata": {},
   "outputs": [],
   "source": [
    "# % Imports\n",
    "import sys\n",
    "\n",
    "sys.path.append('..')\n",
    "from experiments.playground_utils import *\n",
    "#sys.path.append(\".\")"
   ]
  },
  {
   "cell_type": "markdown",
   "metadata": {},
   "source": [
    "### Synthesising Lyapunov Functions\n",
    "\n",
    "First, we demonstrate synthesising Lyapunov functions. Consider the following dynamical system:\n",
    "\n",
    "$$ \\begin{cases} \\dot{x} = -x + xy \\\\ \\dot{y} = - y \\end{cases}$$\n",
    "\n",
    "\n",
    "This system can be instantied as follows, with $x_0 = x $ and $x_1 = y$:\n"
   ]
  },
  {
   "cell_type": "code",
   "execution_count": null,
   "metadata": {},
   "outputs": [],
   "source": [
    "\n",
    "N_Dimensions = 2\n",
    "\n",
    "x, y = initialise_states(N_Dimensions)\n",
    "\n",
    "dynamics = [\n",
    "    -x + x * y,\n",
    "    -y\n",
    "]\n",
    "\n",
    "# This will work for any arbitrary variable name, but functions will still be printed as f(x0,...,xn)"
   ]
  },
  {
   "cell_type": "markdown",
   "metadata": {},
   "source": [
    "This system has an equilibrium point at the origin $\\mathbf{x} = 0$. We seek to synthesis a Lyapunov function to serve as a certificate of stability of this equilibrium point. This  Lyapunov function will be validated in a region around the equilibrium point. This domain is defined as:\n",
    "\n",
    "$$ \\mathcal{D}  = \\{\\mathbf{x}: \\mathbf{x} < r^2 \\} $$\n",
    "\n",
    "for some user-set parameter r. To constrain the domain to a torus shape (i.e., excluding a smaller hypershere around the origin), use the keyword arguement INNER_RADIUS. \n",
    "<a id='lyap-synth'></a>"
   ]
  },
  {
   "cell_type": "code",
   "execution_count": null,
   "metadata": {
    "scrolled": true
   },
   "outputs": [],
   "source": [
    "r = 10\n",
    "mode = PrimerMode.LYAPUNOV\n",
    "numerical_V, symbolic_V = synthesise(dynamics, mode, OUTER_RADIUS=r)"
   ]
  },
  {
   "cell_type": "code",
   "execution_count": null,
   "metadata": {},
   "outputs": [],
   "source": [
    "# The symbolic function can be printed using print_f\n",
    "print_f(symbolic_V)"
   ]
  },
  {
   "cell_type": "markdown",
   "metadata": {},
   "source": [
    "### Barrier Cerificates\n",
    "\n",
    "## What would a good example for here be? Ideally one that is robust to seeds and can be expressed as Spheres and rectangles?\n",
    "\n",
    "We now demonstrate synthesising a barrier certificate. Consider the following dynamical system:\n",
    "\n",
    "$$\\begin{cases}\n",
    "\\dot{x} = e^{-x} + y - 1 \\\\\n",
    "\\dot{y} = - \\sin^2 x\n",
    "\\end{cases}$$\n",
    "\n",
    "We can initialise this dynamical system as follows, with with $x_0 = x $ and $x_1 = y$."
   ]
  },
  {
   "cell_type": "code",
   "execution_count": null,
   "metadata": {},
   "outputs": [],
   "source": [
    "N_Dimensions = 3\n",
    "\n",
    "x0, x1, x2 = initialise_states(N_Dimensions)\n",
    "\n",
    "dynamics = [\n",
    "    x1,\n",
    "    x2,\n",
    "    4180*x2 - 2400*x1 - 576*x0\n",
    "    \n",
    "]"
   ]
  },
  {
   "cell_type": "markdown",
   "metadata": {},
   "source": [
    "#### Domain Initialisation\n",
    "We define the overall domain as \n",
    "$$\\begin{align*}\n",
    "& X = \\{-2 \\leq x, -5 \\leq y, \\ x \\leq 5, \\ y  \\leq 2 \\} \\\\ \n",
    "& X_0 = \\{(x+0.5)^2+(y - 0.5)^2 \\leq 0.16 \\} \\\\ \n",
    "& X_u  = \\{ (x - 0.7)^2+(y+0.7)^2 \\leq 0.09 \\}\n",
    "\\end{align*}$$\n",
    "\n",
    "\n",
    "This can be initialised as follows:"
   ]
  },
  {
   "cell_type": "code",
   "execution_count": null,
   "metadata": {},
   "outputs": [],
   "source": [
    "xd = Sphere([0,0,0], 2)\n",
    "xi = Sphere([1, 1, 1,], 0.5)\n",
    "xu = Sphere([-2, -2, -2,], 0.4)"
   ]
  },
  {
   "cell_type": "markdown",
   "metadata": {},
   "source": [
    "A barrier function is then synthesised as:\n",
    "<a id='barrier-synth'></a>"
   ]
  },
  {
   "cell_type": "code",
   "execution_count": null,
   "metadata": {},
   "outputs": [],
   "source": [
    "mode = PrimerMode.BARRIER\n",
    "\n",
    "f_n, f_v, = synthesise(dynamics, mode, XD=xd, XI=xi, XU=xu, \n",
    "                       CEGIS_PARAMETERS={CegisConfig.VERIFIER.k:VerifierType.DREAL,\n",
    "                                         CegisConfig.ACTIVATION.k: [ActivationType.LINEAR]})"
   ]
  }
 ],
 "metadata": {
  "kernelspec": {
   "display_name": "lnn",
   "language": "python",
   "name": "lnn"
  },
  "language_info": {
   "codemirror_mode": {
    "name": "ipython",
    "version": 3
   },
   "file_extension": ".py",
   "mimetype": "text/x-python",
   "name": "python",
   "nbconvert_exporter": "python",
   "pygments_lexer": "ipython3",
   "version": "3.8.5"
  }
 },
 "nbformat": 4,
 "nbformat_minor": 4
}
