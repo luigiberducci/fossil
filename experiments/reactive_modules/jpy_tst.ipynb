{
 "cells": [
  {
   "cell_type": "code",
   "execution_count": 15,
   "metadata": {
    "scrolled": true
   },
   "outputs": [
    {
     "name": "stdout",
     "output_type": "stream",
     "text": [
      "Variables must be x0, x1, etc. \n",
      "Equations must be separated by commas, e.g. \n",
      "-x0**3 + x1, -x1 \n",
      "\n",
      "Please enter the system: -x0, -x1\n",
      "Lyapunov (l) or Barrier (b)? b\n",
      "Please enter either l or b\n",
      "Not yet fully implemented, sorry\n"
     ]
    }
   ],
   "source": [
    "# %load test_general.py\n",
    "import sys\n",
    "sys.path.append('/run/media/andffo/9188c695-ef7b-4614-a256-891e8b598448/tool_jpy/')\n",
    "\n",
    "import sympy as sp\n",
    "import torch\n",
    "from benchmarks.create_bcmk import create_benchmark_for_lyap, create_benchmark_for_barrier\n",
    "from functools import partial\n",
    "from init_synth import lyap_synthesis, barrier_synthesis\n",
    "\n",
    "\n",
    "def main():\n",
    "    \n",
    "    print('Variables must be x0, x1, etc. \\nEquations must be separated by commas, e.g. \\n-x0**3 + x1, -x1 \\n')\n",
    "    input_sys = sp.simplify(input('Please enter the system: '))\n",
    "    lyap_or_barrier = ''\n",
    "    while lyap_or_barrier != 'l' and lyap_or_barrier != 'b':\n",
    "        lyap_or_barrier = input('Lyapunov (l) or Barrier (b)? ')\n",
    "        print('Please enter either l or b')\n",
    "\n",
    "    lambda_f = sp.lambdify(input_sys.free_symbols, input_sys)\n",
    "    # extract vars from system in input\n",
    "    # NOTA: this only works if vars are x0, x1, etc.\n",
    "    # generalisation: get the string from free_symbols and make z3 vars\n",
    "    sp_vars = input_sys.free_symbols\n",
    "\n",
    "    if lyap_or_barrier == 'l':\n",
    "        # scalar systems must be treated as corner case:\n",
    "        # torch use \"single dimension\" tensors, i.e. Tensor of dim 500 instead of (500,1)\n",
    "        # and this causes issues throughout the code\n",
    "        if len(input_sys.free_symbols) == 1:\n",
    "            print('Sorry bro, scalar systems are not implemented yet')\n",
    "        else:\n",
    "            benchmark = partial(create_benchmark_for_lyap, dynamics=lambda_f)\n",
    "            lyap_synthesis(benchmark=benchmark, n_vars=len(sp_vars))\n",
    "    else:\n",
    "        print('Not yet fully implemented, sorry')\n",
    "#         benchmark = partial(create_benchmark_for_barrier, dynamics=lambda_f)\n",
    "#         barrier_synthesis(benchmark=benchmark, n_vars=len(sp_vars))\n",
    "\n",
    "\n",
    "if __name__ == '__main__':\n",
    "    torch.manual_seed(167)\n",
    "    main()\n"
   ]
  },
  {
   "cell_type": "code",
   "execution_count": null,
   "metadata": {},
   "outputs": [],
   "source": []
  },
  {
   "cell_type": "code",
   "execution_count": null,
   "metadata": {},
   "outputs": [],
   "source": []
  }
 ],
 "metadata": {
  "kernelspec": {
   "display_name": "Python 3",
   "language": "python",
   "name": "python3"
  },
  "language_info": {
   "codemirror_mode": {
    "name": "ipython",
    "version": 3
   },
   "file_extension": ".py",
   "mimetype": "text/x-python",
   "name": "python",
   "nbconvert_exporter": "python",
   "pygments_lexer": "ipython3",
   "version": "3.7.8"
  }
 },
 "nbformat": 4,
 "nbformat_minor": 4
}
