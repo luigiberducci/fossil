{
 "cells": [
  {
   "cell_type": "markdown",
   "metadata": {},
   "source": [
    "# FOSSIL Benchmarks\n",
    "\n",
    "This notebook serves as a demonstration of the tool benchmarks detailed in. A set seed is used for repeatability.\n",
    "\n",
    "[FOSSIL-playground](FOSSIL-playground.ipynb)\n",
    "\n",
    "## Lyapunov Function Benchmarks\n",
    "1. ### [Nonpoly 0](#non-poly0)\n",
    "1. ### [Nonpoly 1](#non-poly1)\n",
    "1. ### [Nonpoly 2](#non-poly3)\n",
    "1. ### [Nonpoly 3](#non-poly3)\n",
    "1. ### [Poly 1](#poly1)\n",
    "1. ### [Poly 2](#poly2)\n",
    "1. ### [Poly 3](#poly3)\n",
    "1. ### [Poly 4](#poly4)\n",
    "\n",
    "## Barrier Function Benchmarks\n",
    "1. ### [Barr 1](#darboux)\n",
    "1. ### [Barr2](#elementary)\n",
    "1. ### [Barr3](#obstacle)\n",
    "1. ### [Barr4](#polynomial)\n",
    "1. ### [Hy-Barr](#hybrid)\n",
    "1. ### [Hi-Ord4](#hi-ord4)\n",
    "1. ### [Hi-Ord6](#hi-ord6)\n",
    "1. ### [Hi-Ord8](#hi-ord8)"
   ]
  },
  {
   "cell_type": "code",
   "execution_count": null,
   "metadata": {},
   "outputs": [],
   "source": [
    "# % Imports\n",
    "import sys\n",
    "sys.path.append('..')\n",
    "from experiments.playground_utils import *\n",
    "from experiments.benchmarks.benchmarks_bc import *\n",
    "from experiments.benchmarks.benchmarks_lyap import twod_hybrid as hy_lyap \n"
   ]
  },
  {
   "cell_type": "markdown",
   "metadata": {},
   "source": [
    "<a id='non-poly0'></a> \n",
    "## Non-poly0\n",
    "\n",
    "\\begin{cases}\n",
    "\\dot{x} =  -x+xy, \n",
    "\\\\\n",
    "\\dot{y} =  -y, \n",
    "\\end{cases}"
   ]
  },
  {
   "cell_type": "code",
   "execution_count": null,
   "metadata": {},
   "outputs": [],
   "source": [
    "torch.manual_seed(167)\n",
    "N_Dimensions = 2\n",
    "\n",
    "x0, x1 = initialise_states(N_Dimensions)\n",
    "\n",
    "dynamics = [\n",
    "    -x0 + x0 * x1,\n",
    "    -x1\n",
    "]\n",
    "activations =  [ActivationType.SQUARE]\n",
    "neurons = [2] \n",
    "parameters = {CegisConfig.VERIFIER.k:VerifierType.DREAL, CegisConfig.ACTIVATION.k: activations, \n",
    "              CegisConfig.N_HIDDEN_NEURONS.k:neurons,   CegisConfig.POSITIVE_DOMAIN.k:True,\n",
    "              CegisConfig.LLO.k:True, CegisConfig.SP_HANDLE.k:False}\n",
    "\n",
    "mode = PrimerMode.LYAPUNOV\n",
    "\n",
    "f_n, f_v = synthesise(dynamics, mode, OUTER_RADIUS=10, INNER_RADIUS=0.01,CEGIS_PARAMETERS=parameters)\n"
   ]
  },
  {
   "cell_type": "markdown",
   "metadata": {},
   "source": [
    "<a id='non-poly1'></a> \n",
    "## Non-poly 1\n",
    "\n",
    "\\begin{cases}\n",
    "\\dot{x} = -x + 2x^2y \\\\\n",
    "\\dot{y} = - y, \n",
    "\\end{cases}\n"
   ]
  },
  {
   "cell_type": "code",
   "execution_count": null,
   "metadata": {},
   "outputs": [],
   "source": [
    "torch.manual_seed(167)\n",
    "N_Dimensions = 2\n",
    "x0, x1 = initialise_states(N_Dimensions)\n",
    "\n",
    "dynamics = [\n",
    "    -x0 +2*x0**2 * x1,\n",
    "    -x1\n",
    "]\n",
    "activations =  [ActivationType.LINEAR, ActivationType.SQUARE]\n",
    "neurons = [20, 20] \n",
    "parameters = {CegisConfig.ACTIVATION.k: activations, CegisConfig.N_HIDDEN_NEURONS.k:neurons, \n",
    "              CegisConfig.POSITIVE_DOMAIN.k:True, CegisConfig.LLO.k:True, CegisConfig.SP_HANDLE.k:False}\n",
    "\n",
    "mode = PrimerMode.LYAPUNOV\n",
    "\n",
    "f_n, f_v = synthesise(dynamics, mode, OUTER_RADIUS=10, INNER_RADIUS=0.01, CEGIS_PARAMETERS=parameters)"
   ]
  },
  {
   "cell_type": "markdown",
   "metadata": {},
   "source": [
    "<a id='non-poly2'></a> \n",
    "## Non-poly 2\n",
    "\\begin{cases}\n",
    "\\dot{x} = -x \\\\\n",
    "\\dot{y} = - 2y + 0.1 x y^2 + z \\\\\n",
    "\\dot{z} = -z -1.5 y, \n",
    "\\end{cases}"
   ]
  },
  {
   "cell_type": "code",
   "execution_count": null,
   "metadata": {},
   "outputs": [],
   "source": [
    "torch.manual_seed(167)\n",
    "N_Dimensions = 3\n",
    "x0, x1, x2 = initialise_states(N_Dimensions)\n",
    "\n",
    "dynamics = [\n",
    "    -x0,\n",
    "    -2*x1 + 0.1*x0*x1**2 + x2,\n",
    "    -x2 - 1.5*x1\n",
    "]\n",
    "activations =  [ActivationType.LINEAR, ActivationType.SQUARE]\n",
    "neurons = [10, 10]\n",
    "parameters = {CegisConfig.ACTIVATION.k: activations, CegisConfig.N_HIDDEN_NEURONS.k:neurons,\n",
    "              CegisConfig.POSITIVE_DOMAIN.k:True, CegisConfig.LLO.k:True, CegisConfig.SP_HANDLE.k:False,\n",
    "              CegisConfig.BATCH_SIZE.k: 750}\n",
    " \n",
    "mode = PrimerMode.LYAPUNOV\n",
    "f_n, f_v = synthesise(dynamics, mode, OUTER_RADIUS=10, INNER_RADIUS=0.01, CEGIS_PARAMETERS=parameters)"
   ]
  },
  {
   "cell_type": "markdown",
   "metadata": {},
   "source": [
    "<a id='non-poly3'></a> \n",
    "## Non-poly-3\n",
    "\\begin{cases}\n",
    "\\dot{x} = -3x -0.1 x y^3 \\\\\n",
    "\\dot{y} = - y + z \\\\\n",
    "\\dot{z} = -z.  \n",
    "\\end{cases} "
   ]
  },
  {
   "cell_type": "code",
   "execution_count": null,
   "metadata": {},
   "outputs": [],
   "source": [
    "torch.manual_seed(167)\n",
    "N_Dimensions = 3\n",
    "x0, x1, x2 = initialise_states(N_Dimensions)\n",
    "\n",
    "dynamics = [\n",
    "    -3*x0 - 0.1*x0*x1**3,\n",
    "    -x1 + x2,\n",
    "    -x2\n",
    "]\n",
    "activations =  [ActivationType.SQUARE]\n",
    "neurons = [3] \n",
    "parameters = {CegisConfig.ACTIVATION.k: activations, CegisConfig.N_HIDDEN_NEURONS.k:neurons,\n",
    "              CegisConfig.POSITIVE_DOMAIN.k:True, CegisConfig.LLO.k:True, CegisConfig.SP_HANDLE.k:False}\n",
    "\n",
    "mode = PrimerMode.LYAPUNOV\n",
    "\n",
    "f_n, f_v = synthesise(dynamics, mode, OUTER_RADIUS=10, INNER_RADIUS=0.01, CEGIS_PARAMETERS=parameters)"
   ]
  },
  {
   "cell_type": "markdown",
   "metadata": {},
   "source": [
    "<a id='poly1'></a> \n",
    "## Poly1\n",
    "\\begin{cases}\n",
    "\\dot{x} = - x^3 - x z^2, \\\\\n",
    "\\dot{y} = -y - x^2 x_1, \n",
    "\\\\\n",
    "\\dot{z} = -z - \\dfrac{3 z}{z^2 + 1} + 3 x^2 z.\n",
    "\\end{cases} \n",
    "\n",
    "Note that $ z^2 + 1 > 0$"
   ]
  },
  {
   "cell_type": "code",
   "execution_count": null,
   "metadata": {},
   "outputs": [],
   "source": [
    "torch.manual_seed(167)\n",
    "N_Dimensions = 3\n",
    "x0, x1, x2 = initialise_states(N_Dimensions)\n",
    "\n",
    "dynamics = dynamics = [\n",
    "    -x0**3 - x0*x2**2,\n",
    "    -x1 - x0**2 * x1,\n",
    "    -x2 - 3*x2 + 3*x0**2*x2\n",
    "]\n",
    "activations =  [ActivationType.SQUARE]\n",
    "neurons = [5] \n",
    "parameters = {CegisConfig.VERIFIER.k: VerifierType.DREAL, CegisConfig.ACTIVATION.k: activations,\n",
    "              CegisConfig.N_HIDDEN_NEURONS.k: neurons,\n",
    "              CegisConfig.LLO.k: True, CegisConfig.SP_HANDLE.k: False, CegisConfig.N_VARS.k: 3}\n",
    "\n",
    "mode = PrimerMode.LYAPUNOV\n",
    "\n",
    "f_n, f_v = synthesise(dynamics, mode, OUTER_RADIUS=10.0, INNER_RADIUS=0.01, CEGIS_PARAMETERS=parameters)"
   ]
  },
  {
   "cell_type": "markdown",
   "metadata": {},
   "source": [
    "<a id='poly2'></a> \n",
    "## Poly2\n",
    "\\begin{cases}\n",
    "\\dot{x} = - x^3 + y &  \\\\\n",
    " \\dot{y} = -x -y. & \n",
    "\\end{cases}"
   ]
  },
  {
   "cell_type": "code",
   "execution_count": null,
   "metadata": {},
   "outputs": [],
   "source": [
    "torch.manual_seed(167)\n",
    "N_Dimensions = 3\n",
    "x0, x1, x2 = initialise_states(N_Dimensions)\n",
    "\n",
    "dynamics = [\n",
    "    -x0**3 + x1,\n",
    "    -x0 - x1\n",
    "]\n",
    "activations =  [ActivationType.SQUARE]\n",
    "neurons = [10] \n",
    "parameters = {CegisConfig.ACTIVATION.k: activations, CegisConfig.N_HIDDEN_NEURONS.k:neurons, \n",
    "              CegisConfig.LLO.k:True, CegisConfig.SP_HANDLE.k:False\n",
    "             }\n",
    "\n",
    "mode = PrimerMode.LYAPUNOV\n",
    "\n",
    "f_n, f_v = synthesise(dynamics, mode, OUTER_RADIUS=10, INNER_RADIUS=0.01, CEGIS_PARAMETERS=parameters)"
   ]
  },
  {
   "cell_type": "markdown",
   "metadata": {},
   "source": [
    "<a id='poly3'></a>\n",
    "## Poly 3\n",
    "\\begin{cases}\n",
    "\\dot{x}= -x^3 - y^2, \n",
    "\\\\\n",
    "\\dot{y}= xy - y^3.\n",
    "\\end{cases}"
   ]
  },
  {
   "cell_type": "code",
   "execution_count": null,
   "metadata": {},
   "outputs": [],
   "source": [
    "torch.manual_seed(167)\n",
    "N_Dimensions = 2\n",
    "x0, x1 = initialise_states(N_Dimensions)\n",
    "\n",
    "dynamics = [\n",
    "    -x0**3 -x1**2,\n",
    "    x0*x1 - x1**3\n",
    "    \n",
    "]\n",
    "activations =  [ActivationType.SQUARE]\n",
    "neurons = [5] \n",
    "parameters = {CegisConfig.VERIFIER.k:VerifierType.DREAL, CegisConfig.ACTIVATION.k: activations, \n",
    "              CegisConfig.N_HIDDEN_NEURONS.k:neurons, CegisConfig.LLO.k:True, CegisConfig.SP_HANDLE.k:False}\n",
    "\n",
    "mode = PrimerMode.LYAPUNOV\n",
    "\n",
    "f_n, f_v = synthesise(dynamics, mode, OUTER_RADIUS=10, INNER_RADIUS = 0.01, CEGIS_PARAMETERS=parameters)"
   ]
  },
  {
   "cell_type": "markdown",
   "metadata": {},
   "source": [
    "<a id='poly4'></a>\n",
    "## Poly 4\n",
    "\\begin{cases}\n",
    "\\dot{x}= - x - 1.5 x^2 y^3,\n",
    "\\\\\n",
    "\\dot{y}=-y^3 + 0.5x^3 y^2.\n",
    "\\end{cases}"
   ]
  },
  {
   "cell_type": "code",
   "execution_count": null,
   "metadata": {},
   "outputs": [],
   "source": [
    "torch.manual_seed(167)\n",
    "N_Dimensions = 2\n",
    "x0, x1 = initialise_states(N_Dimensions)\n",
    "\n",
    "dynamics = [\n",
    "    -x0 - 1.5*x0**2*x1**3,\n",
    "    -x1**3 + 0.5*x0**3*x1**2\n",
    "]\n",
    "activations =  [ActivationType.SQUARE]\n",
    "neurons = [5] \n",
    "parameters = {CegisConfig.VERIFIER.k:VerifierType.DREAL,CegisConfig.ACTIVATION.k: activations, \n",
    "              CegisConfig.N_HIDDEN_NEURONS.k:neurons, CegisConfig.LLO.k:True, CegisConfig.SP_HANDLE.k:False}\n",
    "\n",
    "mode = PrimerMode.LYAPUNOV\n",
    "\n",
    "f_n, f_v = synthesise(dynamics, mode, OUTER_RADIUS=10, INNER_RADIUS = 0.01, CEGIS_PARAMETERS=parameters)"
   ]
  },
  {
   "cell_type": "markdown",
   "metadata": {},
   "source": [
    "<a id='hy-lyap'></a> \n",
    "## Hy-Lyap\n",
    "\n",
    "$$ f(x, y) = \n",
    "\\begin{cases}\n",
    "f_1 & \\text{if } y < 0, \\\\\n",
    "f_2 & \\text{otherwise},\n",
    "\\end{cases}$$\n",
    "\n",
    "where \n",
    "\n",
    "$$f_1 = \n",
    "\\begin{cases}\n",
    "\\dot{x} = -x, \\\\\n",
    "\\dot{y} = - y - 0.5 x^3, \\\\\n",
    "\\end{cases}$$\n",
    "\n",
    "$$f_2 = \n",
    "\\begin{cases}\n",
    "\\dot{x} = -x, \\\\\n",
    "\\dot{y} =  -y -x^2 - 0.25 y^3, \\\\\n",
    "\\end{cases}$$\n"
   ]
  },
  {
   "cell_type": "code",
   "execution_count": null,
   "metadata": {},
   "outputs": [],
   "source": [
    "torch.manual_seed(167)\n",
    "dynamics = hy_lyap\n",
    "dimension = 2\n",
    "activations =  [ActivationType.SQUARE]\n",
    "neurons = [10]\n",
    "verifier_type = VerifierType.DREAL\n",
    "\n",
    "parameters = {CegisConfig.N_VARS.k: dimension, CegisConfig.VERIFIER.k: VerifierType.Z3, \n",
    "              CegisConfig.ACTIVATION.k: activations, CegisConfig.N_HIDDEN_NEURONS.k:neurons, \n",
    "              CegisConfig.SP_HANDLE.k: False, CegisConfig.SP_SIMPLIFY.k: False,\n",
    "              CegisConfig.LLO.k: True, CegisConfig.BATCH_SIZE.k: 1000}\n",
    "\n",
    "mode = PrimerMode.LYAPUNOV\n",
    "\n",
    "f_n, f_v = synthesise(dynamics, mode, OUTER_RADIUS=10, CEGIS_PARAMETERS=parameters)"
   ]
  },
  {
   "cell_type": "markdown",
   "metadata": {},
   "source": [
    "# Barrier Function Benchmarks"
   ]
  },
  {
   "cell_type": "markdown",
   "metadata": {},
   "source": [
    "<a id='darboux'></a>\n",
    "## Barr 1\n",
    "\n",
    "$$ \\begin{cases} \\dot{x} = y + 2xy  \\\\ \\dot{y} = -x - y^2 + 2x^2 \\end{cases}$$\n",
    "\n",
    "$$\\begin{align*}\n",
    "& X = \\{ -2 \\leq x, y \\leq 2 \\}, \\\\\n",
    "& X_0 =  \\{ 0 \\leq x \\leq 1, 1 \\leq y \\leq 2 \\}, \\\\\n",
    "& X_u = \\{ x+y^2 \\leq 0 \\}\n",
    "\\end{align*}$$\n"
   ]
  },
  {
   "cell_type": "code",
   "execution_count": null,
   "metadata": {},
   "outputs": [],
   "source": [
    "torch.manual_seed(167)\n",
    "dynamics = darboux\n",
    "dimension = 2\n",
    "activations =  [ActivationType.LINEAR, ActivationType.LIN_TO_CUBIC, ActivationType.LINEAR]\n",
    "neurons = [10] * len(activations)\n",
    "verifier_type = VerifierType.DREAL\n",
    "\n",
    "parameters = {CegisConfig.VERIFIER.k: verifier_type, CegisConfig.ACTIVATION.k: activations, \n",
    "              CegisConfig.N_HIDDEN_NEURONS.k:neurons, CegisConfig.N_VARS.k: dimension}\n",
    "\n",
    "mode = PrimerMode.BARRIER\n",
    "\n",
    "f_n, f_v = synthesise(dynamics, mode, CEGIS_PARAMETERS=parameters)"
   ]
  },
  {
   "cell_type": "markdown",
   "metadata": {},
   "source": [
    "<a id='elementary'></a>\n",
    "## Barr 2\n",
    "\n",
    "$$\\begin{cases}\n",
    "\\dot{x} = e^{-x} + y - 1 \\\\\n",
    "\\dot{y} = - \\sin^2 x\n",
    "\\end{cases}$$\n",
    "\n",
    "$$\\begin{align*}\n",
    "& X = \\{-2 \\leq x, y  \\leq 2 \\} \\\\ \n",
    "& X_0 = \\{(x+0.5)^2+(y - 0.5)^2 \\leq 0.16 \\} \\\\ \n",
    "& X_u  = \\{ (x - 0.7)^2+(y+0.7)^2 \\leq 0.09 \\}\n",
    "\\end{align*}$$\n",
    "\n",
    "\n"
   ]
  },
  {
   "cell_type": "code",
   "execution_count": null,
   "metadata": {},
   "outputs": [],
   "source": [
    "torch.manual_seed(167)\n",
    "dynamics = elementary\n",
    "dimension = 2\n",
    "activations =  [ActivationType.LIN_SQUARE]\n",
    "neurons = [10] \n",
    "verifier_type = VerifierType.DREAL\n",
    "\n",
    "parameters = {CegisConfig.VERIFIER.k:verifier_type,CegisConfig.ACTIVATION.k: activations,\n",
    "              CegisConfig.N_VARS.k: dimension,\n",
    "              CegisConfig.N_HIDDEN_NEURONS.k:neurons, CegisConfig.SP_HANDLE.k:False, \n",
    "              CegisConfig.SP_SIMPLIFY.k:True, CegisConfig.SYMMETRIC_BELT.k: False,}\n",
    "\n",
    "mode = PrimerMode.BARRIER\n",
    "f_n, f_s = synthesise(dynamics, mode, CEGIS_PARAMETERS=parameters)"
   ]
  },
  {
   "cell_type": "markdown",
   "metadata": {},
   "source": [
    "<a id='obstacle'></a>\n",
    "## Barr 3\n",
    "\n",
    "$$\\begin{cases}\n",
    "\\dot{x} = v \\sin \\varphi \\newline\n",
    "\\dot{y} = v \\cos \\varphi \\newline\n",
    "\\dot{\\varphi} = u, \\quad \\textrm{ where } \\quad u = - \\sin \\varphi + 3 \\cdot \\frac{x \\sin \\varphi + y \\cos \\varphi}{0.5 + x^2 + y^2}\n",
    "\\end{cases}$$\n",
    "\n",
    "\n",
    "$$\\begin{align*}\n",
    "& X = \\{ -2 \\leq x,y \\leq 2,-\\frac{\\pi}{2}< \\varphi < \\frac{\\pi}{2} \\} \\\\\n",
    "& X_0 = \\{ -0.1 \\leq x \\leq 0.1, - 2 \\leq y \\leq -1.8,-\\frac{\\pi}{6}< \\varphi< \\frac{\\pi}{6} \\} \\\\\n",
    "& X_u = \\{ x^2+ y^2  \\leq 0.04 \\} \n",
    "\\end{align*}$$\n",
    "\n"
   ]
  },
  {
   "cell_type": "code",
   "execution_count": null,
   "metadata": {},
   "outputs": [],
   "source": [
    "torch.manual_seed(167)\n",
    "\n",
    "dynamics = obstacle_avoidance\n",
    "dimension = 3\n",
    "activations =  [ActivationType.LIN_SQUARE]\n",
    "neurons = [10] \n",
    "verifier_type = VerifierType.DREAL\n",
    "\n",
    "parameters = {CegisConfig.VERIFIER.k:verifier_type,CegisConfig.ACTIVATION.k: activations, \n",
    "              CegisConfig.N_HIDDEN_NEURONS.k:neurons, CegisConfig.N_VARS.k: dimension,\n",
    "              CegisConfig.SP_HANDLE.k:False, CegisConfig.SP_SIMPLIFY.k:False}\n",
    "\n",
    "mode = PrimerMode.BARRIER\n",
    "f_n, f_v = synthesise(dynamics, mode, DIMENSION=dimension, CEGIS_PARAMETERS=parameters)"
   ]
  },
  {
   "cell_type": "markdown",
   "metadata": {},
   "source": [
    "<a id='prajna'></a>\n",
    "## Barr 4\n",
    "\n",
    "\n",
    "$$ \\begin{cases} \\dot{x} = y  \\\\ \\dot{y} = -x - y + \\frac{1}{3} x^3 \\end{cases}$$\n",
    "\n",
    "\n",
    "$$\\begin{align*}\n",
    "& X = \\{ -3.5 \\leq x \\leq 2,-2 \\leq y \\leq 1 \\} \n",
    "\\\\\n",
    "& X_0 = \\{ (x-1.5)^2+y^2 \\leq 0.25 \\vee \n",
    "(x \\geq -1.8 \\wedge x \\leq -1.2 \\wedge y \\geq -0.1 \\wedge y \\leq 0.1) \n",
    "\\\\\n",
    "& \\qquad\\qquad \\vee  (x \\geq -1.4 \\wedge x \\leq -1.2 \\wedge y\\geq -0.5\\wedge y \\leq 0.1) \\}\n",
    " \\\\\n",
    "& X_u = \\{ (x+1)^2+(y+1)^2 \\leq 0.16 \\vee\n",
    "(x\\geq 0.4 \\wedge x\\leq 0.6 \\wedge y \\geq 0.1 \\wedge y\\leq 0.5) \n",
    "\\\\\n",
    "& \\qquad\\qquad \\vee (x \\geq 0.4 \\wedge x \\leq 0.8 \\wedge y \\geq 0.1 \\wedge y \\leq 0.3) \\}\n",
    "\\end{align*}$$\n"
   ]
  },
  {
   "cell_type": "code",
   "execution_count": null,
   "metadata": {},
   "outputs": [],
   "source": [
    "torch.manual_seed(167)\n",
    "dynamics = prajna07_modified\n",
    "\n",
    "dimension = 2\n",
    "activations =  [ActivationType.TANH]\n",
    "neurons = [20] \n",
    "verifier_type = VerifierType.DREAL\n",
    "\n",
    "parameters = {CegisConfig.VERIFIER.k:verifier_type,CegisConfig.ACTIVATION.k: activations, \n",
    "              CegisConfig.BATCH_SIZE.k: 1000, CegisConfig.N_VARS.k: dimension,\n",
    "              CegisConfig.N_HIDDEN_NEURONS.k:neurons, CegisConfig.SYMMETRIC_BELT.k:False,\n",
    "              CegisConfig.SP_HANDLE.k:False, CegisConfig.SP_SIMPLIFY.k:False}\n",
    "\n",
    "mode = PrimerMode.BARRIER\n",
    "f_n, f_v = synthesise(dynamics, mode, CEGIS_PARAMETERS=parameters)"
   ]
  },
  {
   "cell_type": "markdown",
   "metadata": {},
   "source": [
    "<a id='hybrid'></a>\n",
    "## Hy-Barr\n",
    "\n",
    "$$\n",
    "f_1 = \n",
    "\\begin{cases}\n",
    "\\dot{x} = y \\newline\n",
    "\\dot{y} = - x - 0.5 x^3 \\newline\n",
    "\\end{cases}\n",
    "\\qquad\n",
    "f_2 = \n",
    "\\begin{cases}\n",
    "\\dot{x} = y \\newline\n",
    "\\dot{y} =  x - 0.25 y^2 \\newline\n",
    "\\end{cases}$$\n",
    "\n",
    "$$ \\text{Domain for } f_1 = \\{ (x,y): x < 0 \\} \\qquad \\text{Domain for } f_2 = \\{ (x,y): x\\geq 0 \\}$$\n",
    "\n",
    "$$\\begin{align*}\n",
    "& X = \\{ x^2 + y^2 \\leq 4 \\} \\\\ \n",
    "& X_0 = \\{ (x+1)^2 + (y+1)^2 \\leq 0.25 \\} \\\\ \n",
    "& X_u = \\{ (x-1)^2 + (y-1)^2 \\leq 0.25 \\}\n",
    "\\end{align*}$$\n",
    "\n"
   ]
  },
  {
   "cell_type": "code",
   "execution_count": null,
   "metadata": {},
   "outputs": [],
   "source": [
    "torch.manual_seed(167)\n",
    "\n",
    "dynamics = twod_hybrid\n",
    "dimension = 2\n",
    "activations =  [ActivationType.LIN_SQUARE]\n",
    "neurons = [3] \n",
    "verifier_type = VerifierType.Z3\n",
    "\n",
    "parameters = {CegisConfig.VERIFIER.k:verifier_type,CegisConfig.ACTIVATION.k: activations, \n",
    "              CegisConfig.N_VARS.k: dimension,\n",
    "              CegisConfig.N_HIDDEN_NEURONS.k:neurons, CegisConfig.SYMMETRIC_BELT.k:False, \n",
    "              CegisConfig.SP_HANDLE.k:False, CegisConfig.SP_SIMPLIFY.k:False}\n",
    "\n",
    "mode = PrimerMode.BARRIER\n",
    "f_n, f_v = synthesise(dynamics, mode, CEGIS_PARAMETERS=parameters)"
   ]
  },
  {
   "cell_type": "markdown",
   "metadata": {},
   "source": [
    "<a id='hi-ord4'></a>\n",
    "## Hi-Ord 4\n",
    "\n",
    "$$\\begin{align}\n",
    "& 2273 x^{(4)} + 3980 x^{(3)} + 4180 x^{(2)} + 2400 x^{(1)} + 576 = 0, \n",
    "\\end{align}$$\n",
    "\n",
    "where $ x^i $ represents the $i^{th}$ derivative of $x$."
   ]
  },
  {
   "cell_type": "code",
   "execution_count": null,
   "metadata": {},
   "outputs": [],
   "source": [
    "torch.manual_seed(167)\n",
    "\n",
    "dynamics = four_poly\n",
    "dimension = 4\n",
    "activations =  [ActivationType.LINEAR]\n",
    "neurons = [20] \n",
    "verifier_type = VerifierType.DREAL\n",
    "\n",
    "parameters = {CegisConfig.VERIFIER.k:verifier_type,CegisConfig.ACTIVATION.k: activations, \n",
    "              CegisConfig.N_VARS.k: dimension, CegisConfig.BATCH_SIZE.k: 1000,\n",
    "              CegisConfig.N_HIDDEN_NEURONS.k:neurons, CegisConfig.SYMMETRIC_BELT.k:False, \n",
    "              CegisConfig.SP_HANDLE.k:True, CegisConfig.SP_SIMPLIFY.k:True, CegisConfig.ROUNDING.k: 2}\n",
    "\n",
    "mode = PrimerMode.BARRIER\n",
    "f_n, f_v = synthesise(dynamics, mode, CEGIS_PARAMETERS=parameters)"
   ]
  },
  {
   "cell_type": "markdown",
   "metadata": {},
   "source": [
    "<a id='hi-ord6'></a>\n",
    "## Hi-Ord 6\n",
    "\n",
    "$$\\begin{align}\n",
    "& 170 x^{(6)} + 800 x^{(5)} + 2273 x^{(4)} + 3980 x^{(3)} \n",
    "\\\\ \\nonumber\n",
    "& + 4180 x^{(2)} + 2400 x^{(1)} + 576 = 0, \n",
    "\\end{align}$$\n",
    "\n",
    "where $ x^i $ represents the $i^{th}$ derivative of $x$."
   ]
  },
  {
   "cell_type": "code",
   "execution_count": null,
   "metadata": {},
   "outputs": [],
   "source": [
    "torch.manual_seed(167)\n",
    "\n",
    "dynamics = six_poly\n",
    "dimension = 6\n",
    "activations =  [ActivationType.LINEAR]\n",
    "neurons = [10] \n",
    "verifier_type = VerifierType.DREAL\n",
    "\n",
    "parameters = {CegisConfig.VERIFIER.k:verifier_type,   CegisConfig.ACTIVATION.k: activations, \n",
    "              CegisConfig.N_VARS.k: dimension,        CegisConfig.BATCH_SIZE.k: 1000,\n",
    "              CegisConfig.N_HIDDEN_NEURONS.k:neurons, CegisConfig.SYMMETRIC_BELT.k:False, \n",
    "              CegisConfig.SP_HANDLE.k:True,           CegisConfig.SP_SIMPLIFY.k:True, \n",
    "              CegisConfig.ROUNDING.k: 2}\n",
    "\n",
    "mode = PrimerMode.BARRIER\n",
    "f_n, f_v = synthesise(dynamics, mode, CEGIS_PARAMETERS=parameters)"
   ]
  },
  {
   "cell_type": "markdown",
   "metadata": {},
   "source": [
    "<a id='hi-ord8'></a>\n",
    "## Hi-Ord 8\n",
    "\n",
    "\n",
    "\\begin{align}\n",
    "\t& x^{(8)} + 20 x^{(7)} + 170 x^{(6)} + 800 x^{(5)} + 2273 x^{(4)} \n",
    "\t\\\\ \\nonumber \n",
    "\t& \\qquad + 3980 x^{(3)} + 4180 x^{(2)} + 2400 x^{(1)} + 576 = 0, \n",
    "\\end{align}\n",
    "where $ x^i $ represents the $i^{th}$ derivative of $x$."
   ]
  },
  {
   "cell_type": "code",
   "execution_count": null,
   "metadata": {},
   "outputs": [],
   "source": [
    "torch.manual_seed(167)\n",
    "\n",
    "dynamics = eight_poly\n",
    "dimension = 8\n",
    "activations =  [ActivationType.LINEAR]\n",
    "neurons = [10] \n",
    "verifier_type = VerifierType.DREAL\n",
    "\n",
    "parameters = {CegisConfig.VERIFIER.k:verifier_type,CegisConfig.ACTIVATION.k: activations, \n",
    "              CegisConfig.N_VARS.k: dimension, CegisConfig.BATCH_SIZE.k: 1000, \n",
    "              CegisConfig.N_HIDDEN_NEURONS.k:neurons, CegisConfig.SYMMETRIC_BELT.k:False, \n",
    "              CegisConfig.SP_HANDLE.k:True, CegisConfig.SP_SIMPLIFY.k:True, CegisConfig.ROUNDING.k: 2}\n",
    "\n",
    "mode = PrimerMode.BARRIER\n",
    "f_n, f_v = synthesise(dynamics, mode, CEGIS_PARAMETERS=parameters)"
   ]
  }
 ],
 "metadata": {
  "kernelspec": {
   "display_name": "lnn",
   "language": "python",
   "name": "lnn"
  },
  "language_info": {
   "codemirror_mode": {
    "name": "ipython",
    "version": 3
   },
   "file_extension": ".py",
   "mimetype": "text/x-python",
   "name": "python",
   "nbconvert_exporter": "python",
   "pygments_lexer": "ipython3",
   "version": "3.8.5"
  }
 },
 "nbformat": 4,
 "nbformat_minor": 4
}
